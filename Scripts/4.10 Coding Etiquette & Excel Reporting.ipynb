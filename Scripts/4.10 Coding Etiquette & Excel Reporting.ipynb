{
 "cells": [
  {
   "cell_type": "markdown",
   "id": "0159ad4e",
   "metadata": {},
   "source": [
    "# 4.10 Coding Etiquette & Excel Reporting"
   ]
  },
  {
   "cell_type": "markdown",
   "id": "06a38e9c",
   "metadata": {},
   "source": [
    "## This script contains:\n",
    "### 1. Importing data\n",
    "### 2. Drop columns containg PII\n",
    "### 3. Create a regional segmentation of the data\n",
    "### 4. Create activity flag and exclude customers with low activity\n",
    "### 5. Create a profiling variable\n",
    "### 6. Create a visual of profile distribution\n",
    "### 7. Aggregate the max, mean, and min variables on a customer-profile level\n",
    "### 8. Compare customer profiles with regions and departments\n",
    "### 9. Produce charts to illustrate results\n",
    "### 10. Export final report data\n",
    "### 11. Checking Frequencies for Final Report\n",
    "### 12. Create Visualizations for Final Report"
   ]
  },
  {
   "cell_type": "code",
   "execution_count": 120,
   "id": "1a58109b",
   "metadata": {},
   "outputs": [],
   "source": [
    "### Import libraries\n",
    "\n",
    "import pandas as pd\n",
    "import numpy as np\n",
    "import os\n",
    "import matplotlib.pyplot as plt\n",
    "import seaborn as sns\n",
    "import scipy"
   ]
  },
  {
   "cell_type": "markdown",
   "id": "f6a6ec56",
   "metadata": {},
   "source": [
    "### 01. Importing Data"
   ]
  },
  {
   "cell_type": "code",
   "execution_count": 2,
   "id": "dd2a9fec",
   "metadata": {},
   "outputs": [],
   "source": [
    "# Define path\n",
    "\n",
    "path = '/Users/mariasampogna/Documents/Career Foundry/Data Analytics Immersion/Achievement 4/Instacart Basket Analysis'"
   ]
  },
  {
   "cell_type": "code",
   "execution_count": 5,
   "id": "eddce87b",
   "metadata": {},
   "outputs": [],
   "source": [
    "# Import final data set\n",
    "\n",
    "ords_prods_custs = pd.read_pickle(os.path.join(path,'02 Data', 'Prepared Data','ords_prods_cust.pkl'))"
   ]
  },
  {
   "cell_type": "code",
   "execution_count": 26,
   "id": "a875ef58",
   "metadata": {},
   "outputs": [],
   "source": [
    "# Import departments\n",
    "\n",
    "departments = pd.read_csv(os.path.join(path,'02 Data','Prepared Data','departments_wrangled.csv'), index_col = False)"
   ]
  },
  {
   "cell_type": "code",
   "execution_count": 7,
   "id": "7d87b8fc",
   "metadata": {},
   "outputs": [
    {
     "data": {
      "text/html": [
       "<div>\n",
       "<style scoped>\n",
       "    .dataframe tbody tr th:only-of-type {\n",
       "        vertical-align: middle;\n",
       "    }\n",
       "\n",
       "    .dataframe tbody tr th {\n",
       "        vertical-align: top;\n",
       "    }\n",
       "\n",
       "    .dataframe thead th {\n",
       "        text-align: right;\n",
       "    }\n",
       "</style>\n",
       "<table border=\"1\" class=\"dataframe\">\n",
       "  <thead>\n",
       "    <tr style=\"text-align: right;\">\n",
       "      <th></th>\n",
       "      <th>order_id</th>\n",
       "      <th>user_id</th>\n",
       "      <th>order_number</th>\n",
       "      <th>order_day_of_week</th>\n",
       "      <th>order_hour_of_day</th>\n",
       "      <th>days_since_prior_order</th>\n",
       "      <th>first_order</th>\n",
       "      <th>product_id</th>\n",
       "      <th>add_to_cart_order</th>\n",
       "      <th>reordered</th>\n",
       "      <th>...</th>\n",
       "      <th>first_name</th>\n",
       "      <th>last_name</th>\n",
       "      <th>gender</th>\n",
       "      <th>state</th>\n",
       "      <th>age</th>\n",
       "      <th>date_joined</th>\n",
       "      <th>n_dependants</th>\n",
       "      <th>marital_status</th>\n",
       "      <th>income</th>\n",
       "      <th>_merge</th>\n",
       "    </tr>\n",
       "  </thead>\n",
       "  <tbody>\n",
       "    <tr>\n",
       "      <th>0</th>\n",
       "      <td>2539329</td>\n",
       "      <td>1</td>\n",
       "      <td>1</td>\n",
       "      <td>2</td>\n",
       "      <td>8</td>\n",
       "      <td>NaN</td>\n",
       "      <td>True</td>\n",
       "      <td>196</td>\n",
       "      <td>1</td>\n",
       "      <td>0</td>\n",
       "      <td>...</td>\n",
       "      <td>Linda</td>\n",
       "      <td>Nguyen</td>\n",
       "      <td>Female</td>\n",
       "      <td>Alabama</td>\n",
       "      <td>31</td>\n",
       "      <td>2/17/2019</td>\n",
       "      <td>3</td>\n",
       "      <td>married</td>\n",
       "      <td>40423</td>\n",
       "      <td>both</td>\n",
       "    </tr>\n",
       "    <tr>\n",
       "      <th>1</th>\n",
       "      <td>2539329</td>\n",
       "      <td>1</td>\n",
       "      <td>1</td>\n",
       "      <td>2</td>\n",
       "      <td>8</td>\n",
       "      <td>NaN</td>\n",
       "      <td>True</td>\n",
       "      <td>14084</td>\n",
       "      <td>2</td>\n",
       "      <td>0</td>\n",
       "      <td>...</td>\n",
       "      <td>Linda</td>\n",
       "      <td>Nguyen</td>\n",
       "      <td>Female</td>\n",
       "      <td>Alabama</td>\n",
       "      <td>31</td>\n",
       "      <td>2/17/2019</td>\n",
       "      <td>3</td>\n",
       "      <td>married</td>\n",
       "      <td>40423</td>\n",
       "      <td>both</td>\n",
       "    </tr>\n",
       "    <tr>\n",
       "      <th>2</th>\n",
       "      <td>2539329</td>\n",
       "      <td>1</td>\n",
       "      <td>1</td>\n",
       "      <td>2</td>\n",
       "      <td>8</td>\n",
       "      <td>NaN</td>\n",
       "      <td>True</td>\n",
       "      <td>12427</td>\n",
       "      <td>3</td>\n",
       "      <td>0</td>\n",
       "      <td>...</td>\n",
       "      <td>Linda</td>\n",
       "      <td>Nguyen</td>\n",
       "      <td>Female</td>\n",
       "      <td>Alabama</td>\n",
       "      <td>31</td>\n",
       "      <td>2/17/2019</td>\n",
       "      <td>3</td>\n",
       "      <td>married</td>\n",
       "      <td>40423</td>\n",
       "      <td>both</td>\n",
       "    </tr>\n",
       "    <tr>\n",
       "      <th>3</th>\n",
       "      <td>2539329</td>\n",
       "      <td>1</td>\n",
       "      <td>1</td>\n",
       "      <td>2</td>\n",
       "      <td>8</td>\n",
       "      <td>NaN</td>\n",
       "      <td>True</td>\n",
       "      <td>26088</td>\n",
       "      <td>4</td>\n",
       "      <td>0</td>\n",
       "      <td>...</td>\n",
       "      <td>Linda</td>\n",
       "      <td>Nguyen</td>\n",
       "      <td>Female</td>\n",
       "      <td>Alabama</td>\n",
       "      <td>31</td>\n",
       "      <td>2/17/2019</td>\n",
       "      <td>3</td>\n",
       "      <td>married</td>\n",
       "      <td>40423</td>\n",
       "      <td>both</td>\n",
       "    </tr>\n",
       "    <tr>\n",
       "      <th>4</th>\n",
       "      <td>2539329</td>\n",
       "      <td>1</td>\n",
       "      <td>1</td>\n",
       "      <td>2</td>\n",
       "      <td>8</td>\n",
       "      <td>NaN</td>\n",
       "      <td>True</td>\n",
       "      <td>26405</td>\n",
       "      <td>5</td>\n",
       "      <td>0</td>\n",
       "      <td>...</td>\n",
       "      <td>Linda</td>\n",
       "      <td>Nguyen</td>\n",
       "      <td>Female</td>\n",
       "      <td>Alabama</td>\n",
       "      <td>31</td>\n",
       "      <td>2/17/2019</td>\n",
       "      <td>3</td>\n",
       "      <td>married</td>\n",
       "      <td>40423</td>\n",
       "      <td>both</td>\n",
       "    </tr>\n",
       "  </tbody>\n",
       "</table>\n",
       "<p>5 rows × 34 columns</p>\n",
       "</div>"
      ],
      "text/plain": [
       "   order_id  user_id  order_number  order_day_of_week  order_hour_of_day  \\\n",
       "0   2539329        1             1                  2                  8   \n",
       "1   2539329        1             1                  2                  8   \n",
       "2   2539329        1             1                  2                  8   \n",
       "3   2539329        1             1                  2                  8   \n",
       "4   2539329        1             1                  2                  8   \n",
       "\n",
       "   days_since_prior_order  first_order  product_id  add_to_cart_order  \\\n",
       "0                     NaN         True         196                  1   \n",
       "1                     NaN         True       14084                  2   \n",
       "2                     NaN         True       12427                  3   \n",
       "3                     NaN         True       26088                  4   \n",
       "4                     NaN         True       26405                  5   \n",
       "\n",
       "   reordered  ... first_name  last_name  gender    state age date_joined  \\\n",
       "0          0  ...      Linda     Nguyen  Female  Alabama  31   2/17/2019   \n",
       "1          0  ...      Linda     Nguyen  Female  Alabama  31   2/17/2019   \n",
       "2          0  ...      Linda     Nguyen  Female  Alabama  31   2/17/2019   \n",
       "3          0  ...      Linda     Nguyen  Female  Alabama  31   2/17/2019   \n",
       "4          0  ...      Linda     Nguyen  Female  Alabama  31   2/17/2019   \n",
       "\n",
       "  n_dependants marital_status  income _merge  \n",
       "0            3        married   40423   both  \n",
       "1            3        married   40423   both  \n",
       "2            3        married   40423   both  \n",
       "3            3        married   40423   both  \n",
       "4            3        married   40423   both  \n",
       "\n",
       "[5 rows x 34 columns]"
      ]
     },
     "execution_count": 7,
     "metadata": {},
     "output_type": "execute_result"
    }
   ],
   "source": [
    "# Check output\n",
    "\n",
    "ords_prods_custs.head()"
   ]
  },
  {
   "cell_type": "code",
   "execution_count": 24,
   "id": "432b4248",
   "metadata": {},
   "outputs": [
    {
     "name": "stdout",
     "output_type": "stream",
     "text": [
      "<class 'pandas.core.frame.DataFrame'>\n",
      "Int64Index: 32404859 entries, 0 to 32404858\n",
      "Data columns (total 34 columns):\n",
      " #   Column                         Dtype   \n",
      "---  ------                         -----   \n",
      " 0   order_id                       int64   \n",
      " 1   user_id                        int64   \n",
      " 2   order_number                   int64   \n",
      " 3   order_day_of_week              int64   \n",
      " 4   order_hour_of_day              int64   \n",
      " 5   days_since_prior_order         float64 \n",
      " 6   first_order                    bool    \n",
      " 7   product_id                     int64   \n",
      " 8   add_to_cart_order              int64   \n",
      " 9   reordered                      int64   \n",
      " 10  product_name                   object  \n",
      " 11  aisle_id                       float64 \n",
      " 12  department_id                  float64 \n",
      " 13  prices                         float64 \n",
      " 14  price_range_loc                object  \n",
      " 15  busiest_day                    object  \n",
      " 16  busiest_days                   object  \n",
      " 17  busiest_period_of_day          object  \n",
      " 18  max_order                      int64   \n",
      " 19  loyalty_flag                   object  \n",
      " 20  mean_price                     float64 \n",
      " 21  spending_flag                  object  \n",
      " 22  median_days_since_prior_order  float64 \n",
      " 23  frequency_flag                 object  \n",
      " 24  first_name                     object  \n",
      " 25  last_name                      object  \n",
      " 26  gender                         object  \n",
      " 27  state                          object  \n",
      " 28  age                            int64   \n",
      " 29  date_joined                    object  \n",
      " 30  n_dependants                   int64   \n",
      " 31  marital_status                 object  \n",
      " 32  income                         int64   \n",
      " 33  _merge                         category\n",
      "dtypes: bool(1), category(1), float64(6), int64(12), object(14)\n",
      "memory usage: 8.0+ GB\n"
     ]
    }
   ],
   "source": [
    "ords_prods_custs.info()"
   ]
  },
  {
   "cell_type": "markdown",
   "id": "3df726ea",
   "metadata": {},
   "source": [
    "### 02. Drop columns containing PII"
   ]
  },
  {
   "cell_type": "code",
   "execution_count": 49,
   "id": "6bd099d9",
   "metadata": {},
   "outputs": [],
   "source": [
    "ords_prods_custs_secure = ords_prods_custs.drop(columns=['first_name', 'last_name'])"
   ]
  },
  {
   "cell_type": "code",
   "execution_count": 50,
   "id": "415ecefd",
   "metadata": {},
   "outputs": [
    {
     "data": {
      "text/plain": [
       "(32404859, 34)"
      ]
     },
     "execution_count": 50,
     "metadata": {},
     "output_type": "execute_result"
    }
   ],
   "source": [
    "#check the output\n",
    "\n",
    "ords_prods_custs_secure.shape"
   ]
  },
  {
   "cell_type": "code",
   "execution_count": 51,
   "id": "a67e5e97",
   "metadata": {},
   "outputs": [
    {
     "data": {
      "text/plain": [
       "(32404859, 36)"
      ]
     },
     "execution_count": 51,
     "metadata": {},
     "output_type": "execute_result"
    }
   ],
   "source": [
    "ords_prods_custs.shape"
   ]
  },
  {
   "cell_type": "markdown",
   "id": "951589c0",
   "metadata": {},
   "source": [
    "### 03. Create a regional segmentation of the data"
   ]
  },
  {
   "cell_type": "code",
   "execution_count": 52,
   "id": "5d808068",
   "metadata": {},
   "outputs": [],
   "source": [
    "# Create a column for region\n",
    "\n",
    "result = []\n",
    "\n",
    "for value in ords_prods_custs_secure[\"state\"]:\n",
    "  if value in['Maine','New Hampshire','Vermont','Massachusetts','Rhode Island','Connecticut','New York','Pennsylvania','New Jersey']:\n",
    "    result.append(\"Northeast\")\n",
    "  elif value in['Wisconsin','Michigan','Illinois','Indiana','Ohio','North Dakota','South Dakota','Nebraska','Kansas','Minnesota','Iowa','Missouri']:\n",
    "    result.append(\"Midwest\")\n",
    "  elif value in['Delaware','Maryland','District of Columbia','Virginia','West Virginia','North Carolina','South Carolina','Georgia','Florida','Kentucky','Tennessee','Mississippi','Alabama','Oklahoma','Texas','Arkansas','Louisiana']:\n",
    "    result.append(\"South\")\n",
    "  else:\n",
    "    result.append(\"West\")"
   ]
  },
  {
   "cell_type": "code",
   "execution_count": 53,
   "id": "53c6b26d",
   "metadata": {},
   "outputs": [],
   "source": [
    "ords_prods_custs_secure['region'] = result"
   ]
  },
  {
   "cell_type": "code",
   "execution_count": 54,
   "id": "32280f9d",
   "metadata": {},
   "outputs": [
    {
     "data": {
      "text/plain": [
       "South        10791885\n",
       "West          8292913\n",
       "Midwest       7597325\n",
       "Northeast     5722736\n",
       "Name: region, dtype: int64"
      ]
     },
     "execution_count": 54,
     "metadata": {},
     "output_type": "execute_result"
    }
   ],
   "source": [
    "ords_prods_custs_secure['region'].value_counts(dropna = False)"
   ]
  },
  {
   "cell_type": "code",
   "execution_count": 55,
   "id": "955ad13e",
   "metadata": {},
   "outputs": [],
   "source": [
    "# create a crosstab of region and spending\n",
    "\n",
    "crosstab = pd.crosstab(ords_prods_custs_secure['region'], ords_prods_custs_secure['spending_flag'], dropna = False)"
   ]
  },
  {
   "cell_type": "code",
   "execution_count": 36,
   "id": "b1337d8b",
   "metadata": {},
   "outputs": [],
   "source": [
    "# copy crosstab\n",
    "\n",
    "crosstab.to_clipboard()"
   ]
  },
  {
   "cell_type": "markdown",
   "id": "754f5502",
   "metadata": {},
   "source": [
    "### 04. Create activity flag and exclude customers with low activity"
   ]
  },
  {
   "cell_type": "code",
   "execution_count": 56,
   "id": "fafc67d3",
   "metadata": {},
   "outputs": [],
   "source": [
    "# create an activity flag based on the max_order field\n",
    "\n",
    "ords_prods_custs_secure.loc[ords_prods_custs_secure['max_order'] >= 5, 'activity_flag'] = 'High activity'\n",
    "ords_prods_custs_secure.loc[ords_prods_custs_secure['max_order'] < 5, 'activity_flag'] = 'Low activity'"
   ]
  },
  {
   "cell_type": "code",
   "execution_count": 57,
   "id": "e488c22a",
   "metadata": {},
   "outputs": [
    {
     "data": {
      "text/plain": [
       "High activity    30964564\n",
       "Low activity      1440295\n",
       "Name: activity_flag, dtype: int64"
      ]
     },
     "execution_count": 57,
     "metadata": {},
     "output_type": "execute_result"
    }
   ],
   "source": [
    "ords_prods_custs_secure['activity_flag'].value_counts(dropna = False)"
   ]
  },
  {
   "cell_type": "code",
   "execution_count": 58,
   "id": "3e34ef67",
   "metadata": {},
   "outputs": [],
   "source": [
    "# create a new dataframe for high activity customers\n",
    "\n",
    "ords_prods_custs_high = ords_prods_custs_secure.loc[ords_prods_custs['activity_flag'] == 'High activity']"
   ]
  },
  {
   "cell_type": "code",
   "execution_count": 59,
   "id": "f75e9397",
   "metadata": {},
   "outputs": [
    {
     "data": {
      "text/html": [
       "<div>\n",
       "<style scoped>\n",
       "    .dataframe tbody tr th:only-of-type {\n",
       "        vertical-align: middle;\n",
       "    }\n",
       "\n",
       "    .dataframe tbody tr th {\n",
       "        vertical-align: top;\n",
       "    }\n",
       "\n",
       "    .dataframe thead th {\n",
       "        text-align: right;\n",
       "    }\n",
       "</style>\n",
       "<table border=\"1\" class=\"dataframe\">\n",
       "  <thead>\n",
       "    <tr style=\"text-align: right;\">\n",
       "      <th></th>\n",
       "      <th>order_id</th>\n",
       "      <th>user_id</th>\n",
       "      <th>order_number</th>\n",
       "      <th>order_day_of_week</th>\n",
       "      <th>order_hour_of_day</th>\n",
       "      <th>days_since_prior_order</th>\n",
       "      <th>first_order</th>\n",
       "      <th>product_id</th>\n",
       "      <th>add_to_cart_order</th>\n",
       "      <th>reordered</th>\n",
       "      <th>...</th>\n",
       "      <th>gender</th>\n",
       "      <th>state</th>\n",
       "      <th>age</th>\n",
       "      <th>date_joined</th>\n",
       "      <th>n_dependants</th>\n",
       "      <th>marital_status</th>\n",
       "      <th>income</th>\n",
       "      <th>_merge</th>\n",
       "      <th>region</th>\n",
       "      <th>activity_flag</th>\n",
       "    </tr>\n",
       "  </thead>\n",
       "  <tbody>\n",
       "    <tr>\n",
       "      <th>0</th>\n",
       "      <td>2539329</td>\n",
       "      <td>1</td>\n",
       "      <td>1</td>\n",
       "      <td>2</td>\n",
       "      <td>8</td>\n",
       "      <td>NaN</td>\n",
       "      <td>True</td>\n",
       "      <td>196</td>\n",
       "      <td>1</td>\n",
       "      <td>0</td>\n",
       "      <td>...</td>\n",
       "      <td>Female</td>\n",
       "      <td>Alabama</td>\n",
       "      <td>31</td>\n",
       "      <td>2/17/2019</td>\n",
       "      <td>3</td>\n",
       "      <td>married</td>\n",
       "      <td>40423</td>\n",
       "      <td>both</td>\n",
       "      <td>South</td>\n",
       "      <td>High activity</td>\n",
       "    </tr>\n",
       "    <tr>\n",
       "      <th>1</th>\n",
       "      <td>2539329</td>\n",
       "      <td>1</td>\n",
       "      <td>1</td>\n",
       "      <td>2</td>\n",
       "      <td>8</td>\n",
       "      <td>NaN</td>\n",
       "      <td>True</td>\n",
       "      <td>14084</td>\n",
       "      <td>2</td>\n",
       "      <td>0</td>\n",
       "      <td>...</td>\n",
       "      <td>Female</td>\n",
       "      <td>Alabama</td>\n",
       "      <td>31</td>\n",
       "      <td>2/17/2019</td>\n",
       "      <td>3</td>\n",
       "      <td>married</td>\n",
       "      <td>40423</td>\n",
       "      <td>both</td>\n",
       "      <td>South</td>\n",
       "      <td>High activity</td>\n",
       "    </tr>\n",
       "    <tr>\n",
       "      <th>2</th>\n",
       "      <td>2539329</td>\n",
       "      <td>1</td>\n",
       "      <td>1</td>\n",
       "      <td>2</td>\n",
       "      <td>8</td>\n",
       "      <td>NaN</td>\n",
       "      <td>True</td>\n",
       "      <td>12427</td>\n",
       "      <td>3</td>\n",
       "      <td>0</td>\n",
       "      <td>...</td>\n",
       "      <td>Female</td>\n",
       "      <td>Alabama</td>\n",
       "      <td>31</td>\n",
       "      <td>2/17/2019</td>\n",
       "      <td>3</td>\n",
       "      <td>married</td>\n",
       "      <td>40423</td>\n",
       "      <td>both</td>\n",
       "      <td>South</td>\n",
       "      <td>High activity</td>\n",
       "    </tr>\n",
       "    <tr>\n",
       "      <th>3</th>\n",
       "      <td>2539329</td>\n",
       "      <td>1</td>\n",
       "      <td>1</td>\n",
       "      <td>2</td>\n",
       "      <td>8</td>\n",
       "      <td>NaN</td>\n",
       "      <td>True</td>\n",
       "      <td>26088</td>\n",
       "      <td>4</td>\n",
       "      <td>0</td>\n",
       "      <td>...</td>\n",
       "      <td>Female</td>\n",
       "      <td>Alabama</td>\n",
       "      <td>31</td>\n",
       "      <td>2/17/2019</td>\n",
       "      <td>3</td>\n",
       "      <td>married</td>\n",
       "      <td>40423</td>\n",
       "      <td>both</td>\n",
       "      <td>South</td>\n",
       "      <td>High activity</td>\n",
       "    </tr>\n",
       "    <tr>\n",
       "      <th>4</th>\n",
       "      <td>2539329</td>\n",
       "      <td>1</td>\n",
       "      <td>1</td>\n",
       "      <td>2</td>\n",
       "      <td>8</td>\n",
       "      <td>NaN</td>\n",
       "      <td>True</td>\n",
       "      <td>26405</td>\n",
       "      <td>5</td>\n",
       "      <td>0</td>\n",
       "      <td>...</td>\n",
       "      <td>Female</td>\n",
       "      <td>Alabama</td>\n",
       "      <td>31</td>\n",
       "      <td>2/17/2019</td>\n",
       "      <td>3</td>\n",
       "      <td>married</td>\n",
       "      <td>40423</td>\n",
       "      <td>both</td>\n",
       "      <td>South</td>\n",
       "      <td>High activity</td>\n",
       "    </tr>\n",
       "  </tbody>\n",
       "</table>\n",
       "<p>5 rows × 34 columns</p>\n",
       "</div>"
      ],
      "text/plain": [
       "   order_id  user_id  order_number  order_day_of_week  order_hour_of_day  \\\n",
       "0   2539329        1             1                  2                  8   \n",
       "1   2539329        1             1                  2                  8   \n",
       "2   2539329        1             1                  2                  8   \n",
       "3   2539329        1             1                  2                  8   \n",
       "4   2539329        1             1                  2                  8   \n",
       "\n",
       "   days_since_prior_order  first_order  product_id  add_to_cart_order  \\\n",
       "0                     NaN         True         196                  1   \n",
       "1                     NaN         True       14084                  2   \n",
       "2                     NaN         True       12427                  3   \n",
       "3                     NaN         True       26088                  4   \n",
       "4                     NaN         True       26405                  5   \n",
       "\n",
       "   reordered  ...  gender    state  age  date_joined n_dependants  \\\n",
       "0          0  ...  Female  Alabama   31    2/17/2019            3   \n",
       "1          0  ...  Female  Alabama   31    2/17/2019            3   \n",
       "2          0  ...  Female  Alabama   31    2/17/2019            3   \n",
       "3          0  ...  Female  Alabama   31    2/17/2019            3   \n",
       "4          0  ...  Female  Alabama   31    2/17/2019            3   \n",
       "\n",
       "  marital_status income _merge  region  activity_flag  \n",
       "0        married  40423   both   South  High activity  \n",
       "1        married  40423   both   South  High activity  \n",
       "2        married  40423   both   South  High activity  \n",
       "3        married  40423   both   South  High activity  \n",
       "4        married  40423   both   South  High activity  \n",
       "\n",
       "[5 rows x 34 columns]"
      ]
     },
     "execution_count": 59,
     "metadata": {},
     "output_type": "execute_result"
    }
   ],
   "source": [
    "# Check the output\n",
    "\n",
    "ords_prods_custs_high.head()"
   ]
  },
  {
   "cell_type": "code",
   "execution_count": 60,
   "id": "6d5b3070",
   "metadata": {},
   "outputs": [
    {
     "data": {
      "text/plain": [
       "(30964564, 34)"
      ]
     },
     "execution_count": 60,
     "metadata": {},
     "output_type": "execute_result"
    }
   ],
   "source": [
    "ords_prods_custs_high.shape"
   ]
  },
  {
   "cell_type": "code",
   "execution_count": 61,
   "id": "b1f678b3",
   "metadata": {},
   "outputs": [],
   "source": [
    "# Export new dataframe\n",
    "\n",
    "ords_prods_custs_high.to_pickle(os.path.join(path,'02 Data','Prepared Data','ords_prods_custs_high.pkl'))"
   ]
  },
  {
   "cell_type": "code",
   "execution_count": 62,
   "id": "a4fb82f8",
   "metadata": {},
   "outputs": [],
   "source": [
    "# create a new dataframe for low activity customers\n",
    "\n",
    "ords_prods_custs_low = ords_prods_custs_secure.loc[ords_prods_custs['activity_flag'] == 'Low activity']"
   ]
  },
  {
   "cell_type": "code",
   "execution_count": 63,
   "id": "5ce604e1",
   "metadata": {},
   "outputs": [
    {
     "data": {
      "text/plain": [
       "(1440295, 34)"
      ]
     },
     "execution_count": 63,
     "metadata": {},
     "output_type": "execute_result"
    }
   ],
   "source": [
    "# check the output\n",
    "\n",
    "ords_prods_custs_low.shape"
   ]
  },
  {
   "cell_type": "code",
   "execution_count": 64,
   "id": "e03313a5",
   "metadata": {},
   "outputs": [],
   "source": [
    "# Export new dataframe\n",
    "\n",
    "ords_prods_custs_low.to_pickle(os.path.join(path,'02 Data','Prepared Data','ords_prods_custs_low.pkl'))"
   ]
  },
  {
   "cell_type": "markdown",
   "id": "2ff9b16b",
   "metadata": {},
   "source": [
    "### 05. Create a profiling variable"
   ]
  },
  {
   "cell_type": "code",
   "execution_count": 82,
   "id": "cc67f95a",
   "metadata": {},
   "outputs": [],
   "source": [
    "# create a profile variable flag\n",
    "\n",
    "ords_prods_custs_secure.loc[(ords_prods_custs_secure['age'] >= 18) & (ords_prods_custs_secure['n_dependants'] < 1) & (ords_prods_custs_secure['marital_status'] == 'living with parents and siblings'), 'profile_flag'] = 'Single dependant adult'\n",
    "ords_prods_custs_secure.loc[(ords_prods_custs_secure['age'] <= 40) & (ords_prods_custs_secure['n_dependants'] >= 1) & (ords_prods_custs_secure['marital_status'] == 'married'), 'profile_flag'] = 'Married young parent'\n",
    "ords_prods_custs_secure.loc[(ords_prods_custs_secure['age'] > 40) & (ords_prods_custs_secure['n_dependants'] >= 1) & (ords_prods_custs_secure['marital_status'] == ('single','divorced/widowed')), 'profile_flag'] = 'Single mature parent'\n",
    "ords_prods_custs_secure.loc[(ords_prods_custs_secure['age'] > 40) & (ords_prods_custs_secure['n_dependants'] >= 1) & (ords_prods_custs_secure['marital_status'] == 'married'), 'profile_flag'] = 'Married mature parent'\n",
    "ords_prods_custs_secure.loc[(ords_prods_custs_secure['age'] >= 18) & (ords_prods_custs_secure['n_dependants'] < 1) & (ords_prods_custs_secure['marital_status'] == 'married'), 'profile_flag'] = 'Married adult, no kids'\n",
    "ords_prods_custs_secure.loc[(ords_prods_custs_secure['age'] >= 18) & (ords_prods_custs_secure['n_dependants'] >= 1) & (ords_prods_custs_secure['marital_status'] == 'living with parents and siblings'), 'profile_flag'] = 'Dependant adult parent'\n"
   ]
  },
  {
   "cell_type": "code",
   "execution_count": 83,
   "id": "617e2719",
   "metadata": {},
   "outputs": [
    {
     "data": {
      "text/plain": [
       "Married mature parent     15543917\n",
       "NaN                        8097503\n",
       "Married young parent       7212836\n",
       "Dependant adult parent     1550603\n",
       "Name: profile_flag, dtype: int64"
      ]
     },
     "execution_count": 83,
     "metadata": {},
     "output_type": "execute_result"
    }
   ],
   "source": [
    "# check the output\n",
    "\n",
    "ords_prods_custs_secure['profile_flag'].value_counts(dropna = False)"
   ]
  },
  {
   "cell_type": "code",
   "execution_count": 100,
   "id": "667a6689",
   "metadata": {},
   "outputs": [],
   "source": [
    "# recode single adult profiles\n",
    "\n",
    "ords_prods_custs_secure.loc[(ords_prods_custs_secure['age'] >= 18) & (ords_prods_custs_secure['n_dependants'] == 0) & (ords_prods_custs_secure['marital_status'] == 'single'), 'profile_flag'] = 'Single independent adult'\n",
    "ords_prods_custs_secure.loc[(ords_prods_custs_secure['age'] >= 18) & (ords_prods_custs_secure['n_dependants'] == 0) & (ords_prods_custs_secure['marital_status'] == 'divorced/widowed'), 'profile_flag'] = 'Single independent adult'\n",
    "ords_prods_custs_secure.loc[(ords_prods_custs_secure['age'] > 40) & (ords_prods_custs_secure['n_dependants'] >= 1) & (ords_prods_custs_secure['marital_status'] == 'single'), 'profile_flag'] = 'Single mature parent'\n",
    "ords_prods_custs_secure.loc[(ords_prods_custs_secure['age'] > 40) & (ords_prods_custs_secure['n_dependants'] >= 1) & (ords_prods_custs_secure['marital_status'] == 'divorced/widowed'), 'profile_flag'] = 'Single mature parent'\n"
   ]
  },
  {
   "cell_type": "code",
   "execution_count": 101,
   "id": "1aab6290",
   "metadata": {
    "scrolled": true
   },
   "outputs": [
    {
     "data": {
      "text/plain": [
       "Married mature parent       15543917\n",
       "Single independent adult     8097503\n",
       "Married young parent         7212836\n",
       "Dependant adult parent       1550603\n",
       "Name: profile_flag, dtype: int64"
      ]
     },
     "execution_count": 101,
     "metadata": {},
     "output_type": "execute_result"
    }
   ],
   "source": [
    "# check the output\n",
    "\n",
    "ords_prods_custs_secure['profile_flag'].value_counts(dropna = False)"
   ]
  },
  {
   "cell_type": "markdown",
   "id": "2aea7eb2",
   "metadata": {},
   "source": [
    "### 06. Create a visual of profile distribution"
   ]
  },
  {
   "cell_type": "code",
   "execution_count": 102,
   "id": "af96dc50",
   "metadata": {},
   "outputs": [
    {
     "data": {
      "image/png": "[encoded data removed]",
      "text/plain": [
       "<Figure size 640x480 with 1 Axes>"
      ]
     },
     "metadata": {},
     "output_type": "display_data"
    }
   ],
   "source": [
    "# Create bar chart of profile frequency\n",
    "\n",
    "bar_profile = ords_prods_custs_secure['profile_flag'].value_counts().plot.bar()\n",
    "plt.xlabel(\"Demographic Profile\")\n",
    "plt.ylabel(\"Frequency\")\n",
    "plt.title(\"Demographic Profile Frequency\") # You can comment this line out if you don't need title\n",
    "plt.show(bar_profile)"
   ]
  },
  {
   "cell_type": "code",
   "execution_count": 103,
   "id": "57e94921",
   "metadata": {},
   "outputs": [],
   "source": [
    "# export bar_profile\n",
    "\n",
    "bar_profile.figure.savefig(os.path.join(path, '04 Analysis','Visualizations', 'bar_profile.png'))"
   ]
  },
  {
   "cell_type": "markdown",
   "id": "02179378",
   "metadata": {},
   "source": [
    "### 07. Aggregate the max, mean, and min variables on a customer-profile level"
   ]
  },
  {
   "cell_type": "code",
   "execution_count": 104,
   "id": "ee666ca2",
   "metadata": {},
   "outputs": [
    {
     "data": {
      "text/html": [
       "<div>\n",
       "<style scoped>\n",
       "    .dataframe tbody tr th:only-of-type {\n",
       "        vertical-align: middle;\n",
       "    }\n",
       "\n",
       "    .dataframe tbody tr th {\n",
       "        vertical-align: top;\n",
       "    }\n",
       "\n",
       "    .dataframe thead tr th {\n",
       "        text-align: left;\n",
       "    }\n",
       "\n",
       "    .dataframe thead tr:last-of-type th {\n",
       "        text-align: right;\n",
       "    }\n",
       "</style>\n",
       "<table border=\"1\" class=\"dataframe\">\n",
       "  <thead>\n",
       "    <tr>\n",
       "      <th></th>\n",
       "      <th colspan=\"3\" halign=\"left\">order_number</th>\n",
       "    </tr>\n",
       "    <tr>\n",
       "      <th></th>\n",
       "      <th>mean</th>\n",
       "      <th>min</th>\n",
       "      <th>max</th>\n",
       "    </tr>\n",
       "    <tr>\n",
       "      <th>profile_flag</th>\n",
       "      <th></th>\n",
       "      <th></th>\n",
       "      <th></th>\n",
       "    </tr>\n",
       "  </thead>\n",
       "  <tbody>\n",
       "    <tr>\n",
       "      <th>Dependant adult parent</th>\n",
       "      <td>17.296372</td>\n",
       "      <td>1</td>\n",
       "      <td>99</td>\n",
       "    </tr>\n",
       "    <tr>\n",
       "      <th>Married mature parent</th>\n",
       "      <td>17.042466</td>\n",
       "      <td>1</td>\n",
       "      <td>99</td>\n",
       "    </tr>\n",
       "    <tr>\n",
       "      <th>Married young parent</th>\n",
       "      <td>17.187020</td>\n",
       "      <td>1</td>\n",
       "      <td>99</td>\n",
       "    </tr>\n",
       "    <tr>\n",
       "      <th>Single independent adult</th>\n",
       "      <td>17.264622</td>\n",
       "      <td>1</td>\n",
       "      <td>99</td>\n",
       "    </tr>\n",
       "  </tbody>\n",
       "</table>\n",
       "</div>"
      ],
      "text/plain": [
       "                         order_number        \n",
       "                                 mean min max\n",
       "profile_flag                                 \n",
       "Dependant adult parent      17.296372   1  99\n",
       "Married mature parent       17.042466   1  99\n",
       "Married young parent        17.187020   1  99\n",
       "Single independent adult    17.264622   1  99"
      ]
     },
     "execution_count": 104,
     "metadata": {},
     "output_type": "execute_result"
    }
   ],
   "source": [
    "# aggregate profiles based on number of orders\n",
    "\n",
    "ords_prods_custs_secure.groupby('profile_flag').agg({'order_number': ['mean', 'min', 'max']})"
   ]
  },
  {
   "cell_type": "code",
   "execution_count": 106,
   "id": "d20d74c2",
   "metadata": {},
   "outputs": [
    {
     "data": {
      "text/html": [
       "<div>\n",
       "<style scoped>\n",
       "    .dataframe tbody tr th:only-of-type {\n",
       "        vertical-align: middle;\n",
       "    }\n",
       "\n",
       "    .dataframe tbody tr th {\n",
       "        vertical-align: top;\n",
       "    }\n",
       "\n",
       "    .dataframe thead tr th {\n",
       "        text-align: left;\n",
       "    }\n",
       "\n",
       "    .dataframe thead tr:last-of-type th {\n",
       "        text-align: right;\n",
       "    }\n",
       "</style>\n",
       "<table border=\"1\" class=\"dataframe\">\n",
       "  <thead>\n",
       "    <tr>\n",
       "      <th></th>\n",
       "      <th colspan=\"3\" halign=\"left\">prices</th>\n",
       "    </tr>\n",
       "    <tr>\n",
       "      <th></th>\n",
       "      <th>mean</th>\n",
       "      <th>min</th>\n",
       "      <th>max</th>\n",
       "    </tr>\n",
       "    <tr>\n",
       "      <th>profile_flag</th>\n",
       "      <th></th>\n",
       "      <th></th>\n",
       "      <th></th>\n",
       "    </tr>\n",
       "  </thead>\n",
       "  <tbody>\n",
       "    <tr>\n",
       "      <th>Dependant adult parent</th>\n",
       "      <td>7.800712</td>\n",
       "      <td>1.0</td>\n",
       "      <td>25.0</td>\n",
       "    </tr>\n",
       "    <tr>\n",
       "      <th>Married mature parent</th>\n",
       "      <td>7.792887</td>\n",
       "      <td>1.0</td>\n",
       "      <td>25.0</td>\n",
       "    </tr>\n",
       "    <tr>\n",
       "      <th>Married young parent</th>\n",
       "      <td>7.785970</td>\n",
       "      <td>1.0</td>\n",
       "      <td>25.0</td>\n",
       "    </tr>\n",
       "    <tr>\n",
       "      <th>Single independent adult</th>\n",
       "      <td>7.789975</td>\n",
       "      <td>1.0</td>\n",
       "      <td>25.0</td>\n",
       "    </tr>\n",
       "  </tbody>\n",
       "</table>\n",
       "</div>"
      ],
      "text/plain": [
       "                            prices           \n",
       "                              mean  min   max\n",
       "profile_flag                                 \n",
       "Dependant adult parent    7.800712  1.0  25.0\n",
       "Married mature parent     7.792887  1.0  25.0\n",
       "Married young parent      7.785970  1.0  25.0\n",
       "Single independent adult  7.789975  1.0  25.0"
      ]
     },
     "execution_count": 106,
     "metadata": {},
     "output_type": "execute_result"
    }
   ],
   "source": [
    "# aggregate profiles based on prices\n",
    "\n",
    "ords_prods_custs_secure.groupby('profile_flag').agg({'prices': ['mean', 'min', 'max']})"
   ]
  },
  {
   "cell_type": "markdown",
   "id": "c644851a",
   "metadata": {},
   "source": [
    "### 08. Compare customer profiles with regions and departments"
   ]
  },
  {
   "cell_type": "code",
   "execution_count": 111,
   "id": "1084ba39",
   "metadata": {},
   "outputs": [],
   "source": [
    "# create a crosstab of profile and department\n",
    "\n",
    "crosstab_2 = pd.crosstab(ords_prods_custs_secure['profile_flag'], ords_prods_custs_secure['department_id'], dropna = False)"
   ]
  },
  {
   "cell_type": "code",
   "execution_count": 110,
   "id": "8cf85580",
   "metadata": {},
   "outputs": [],
   "source": [
    "# copy crosstab to clipboard\n",
    "\n",
    "crosstab_2.to_clipboard()"
   ]
  },
  {
   "cell_type": "code",
   "execution_count": 112,
   "id": "1ebbf564",
   "metadata": {},
   "outputs": [],
   "source": [
    "# create a crosstab of profile and region\n",
    "\n",
    "crosstab_3 = pd.crosstab(ords_prods_custs_secure['profile_flag'],ords_prods_custs_secure['region'],dropna = False)"
   ]
  },
  {
   "cell_type": "code",
   "execution_count": 113,
   "id": "9909c9e7",
   "metadata": {},
   "outputs": [],
   "source": [
    "# copy crosstab to clipboard\n",
    "\n",
    "crosstab_3.to_clipboard()"
   ]
  },
  {
   "cell_type": "markdown",
   "id": "101a5fa8",
   "metadata": {},
   "source": [
    "### 09. Produce charts to illustrate results"
   ]
  },
  {
   "cell_type": "code",
   "execution_count": 117,
   "id": "5d1c5286",
   "metadata": {},
   "outputs": [
    {
     "data": {
      "image/png": "[encoded data removed]",
      "text/plain": [
       "<Figure size 640x480 with 1 Axes>"
      ]
     },
     "metadata": {},
     "output_type": "display_data"
    }
   ],
   "source": [
    "# Draw a countplot by department and profile\n",
    "\n",
    "countplot_1 = sns.countplot(data=ords_prods_custs_secure, y=\"department_id\", hue=\"profile_flag\")"
   ]
  },
  {
   "cell_type": "code",
   "execution_count": 119,
   "id": "b275736b",
   "metadata": {},
   "outputs": [
    {
     "data": {
      "image/png": "[encoded data removed]",
      "text/plain": [
       "<Figure size 640x480 with 1 Axes>"
      ]
     },
     "metadata": {},
     "output_type": "display_data"
    }
   ],
   "source": [
    "# Draw a countplot by region and profile\n",
    "\n",
    "countplot_2 = sns.countplot(data=ords_prods_custs_secure, x=\"region\", hue=\"profile_flag\")"
   ]
  },
  {
   "cell_type": "code",
   "execution_count": 121,
   "id": "1345b48b",
   "metadata": {},
   "outputs": [],
   "source": [
    "# export charts\n",
    "\n",
    "countplot_1.figure.savefig(os.path.join(path, '04 Analysis','Visualizations', 'bar_department_profile.png'))\n",
    "countplot_2.figure.savefig(os.path.join(path, '04 Analysis','Visualizations', 'bar_region_profile.png'))"
   ]
  },
  {
   "cell_type": "markdown",
   "id": "1f212bcb",
   "metadata": {},
   "source": [
    "### 10. Export final data"
   ]
  },
  {
   "cell_type": "code",
   "execution_count": 122,
   "id": "74f54a15",
   "metadata": {},
   "outputs": [],
   "source": [
    "# Export final dataset\n",
    "\n",
    "ords_prods_custs_secure.to_pickle(os.path.join(path,'02 Data','Prepared Data','Final Project Dataset.pkl'))"
   ]
  },
  {
   "cell_type": "markdown",
   "id": "bae72762",
   "metadata": {},
   "source": [
    "### 11. Check Frequencies for Final Report"
   ]
  },
  {
   "cell_type": "code",
   "execution_count": 9,
   "id": "2381efc4",
   "metadata": {},
   "outputs": [
    {
     "data": {
      "text/plain": [
       "Mid-Range product     21860860\n",
       "Low-range product     10126321\n",
       "High-range product      417678\n",
       "Name: price_range_loc, dtype: int64"
      ]
     },
     "execution_count": 9,
     "metadata": {},
     "output_type": "execute_result"
    }
   ],
   "source": [
    "# Check frequency of 'price_rang_loc'\n",
    "\n",
    "ords_prods_custs['price_range_loc'].value_counts(dropna = False)"
   ]
  },
  {
   "cell_type": "code",
   "execution_count": 10,
   "id": "4ac23ccd",
   "metadata": {},
   "outputs": [
    {
     "data": {
      "text/plain": [
       "Regularly busy    22416875\n",
       "Busiest day        6204182\n",
       "Least busy         3783802\n",
       "Name: busiest_day, dtype: int64"
      ]
     },
     "execution_count": 10,
     "metadata": {},
     "output_type": "execute_result"
    }
   ],
   "source": [
    "# Check frequency of 'busiest_day'\n",
    "\n",
    "ords_prods_custs['busiest_day'].value_counts(dropna = False)"
   ]
  },
  {
   "cell_type": "code",
   "execution_count": 11,
   "id": "31009348",
   "metadata": {},
   "outputs": [
    {
     "data": {
      "text/plain": [
       "Regularly busy    12916111\n",
       "Busiest days      11864412\n",
       "Slowest days       7624336\n",
       "Name: busiest_days, dtype: int64"
      ]
     },
     "execution_count": 11,
     "metadata": {},
     "output_type": "execute_result"
    }
   ],
   "source": [
    "# Check frequency of 'busiest_days'\n",
    "\n",
    "ords_prods_custs['busiest_days'].value_counts(dropna = False)"
   ]
  },
  {
   "cell_type": "code",
   "execution_count": 12,
   "id": "223efba9",
   "metadata": {},
   "outputs": [
    {
     "data": {
      "text/plain": [
       "Most orders       16128666\n",
       "Average orders    15679865\n",
       "Fewest orders       596328\n",
       "Name: busiest_period_of_day, dtype: int64"
      ]
     },
     "execution_count": 12,
     "metadata": {},
     "output_type": "execute_result"
    }
   ],
   "source": [
    "# Check frequency of 'busiest_period_of_day'\n",
    "\n",
    "ords_prods_custs['busiest_period_of_day'].value_counts(dropna = False)"
   ]
  },
  {
   "cell_type": "code",
   "execution_count": 13,
   "id": "19a98e5c",
   "metadata": {},
   "outputs": [
    {
     "data": {
      "text/plain": [
       "Regular customer    15876776\n",
       "Loyal customer      10284093\n",
       "New customer         6243990\n",
       "Name: loyalty_flag, dtype: int64"
      ]
     },
     "execution_count": 13,
     "metadata": {},
     "output_type": "execute_result"
    }
   ],
   "source": [
    "# Check frequency of 'loyalty_flag'\n",
    "\n",
    "ords_prods_custs['loyalty_flag'].value_counts(dropna = False)"
   ]
  },
  {
   "cell_type": "code",
   "execution_count": 14,
   "id": "c792777a",
   "metadata": {},
   "outputs": [
    {
     "data": {
      "text/plain": [
       "Low spender     31770614\n",
       "High spender      634245\n",
       "Name: spending_flag, dtype: int64"
      ]
     },
     "execution_count": 14,
     "metadata": {},
     "output_type": "execute_result"
    }
   ],
   "source": [
    "# Check frequency of 'spending_flag'\n",
    "\n",
    "ords_prods_custs['spending_flag'].value_counts(dropna = False)"
   ]
  },
  {
   "cell_type": "code",
   "execution_count": 15,
   "id": "8f7f64a8",
   "metadata": {},
   "outputs": [
    {
     "data": {
      "text/plain": [
       "Frequent customer        21559853\n",
       "Regular customer          7208564\n",
       "Non-frequent customer     3636437\n",
       "NaN                             5\n",
       "Name: frequency_flag, dtype: int64"
      ]
     },
     "execution_count": 15,
     "metadata": {},
     "output_type": "execute_result"
    }
   ],
   "source": [
    "# Check frequency of 'frequency_flag'\n",
    "\n",
    "ords_prods_custs['frequency_flag'].value_counts(dropna = False)"
   ]
  },
  {
   "cell_type": "markdown",
   "id": "b19bc65e",
   "metadata": {},
   "source": [
    "### 12. Create Visualizations for Final Report"
   ]
  },
  {
   "cell_type": "code",
   "execution_count": 20,
   "id": "201c48a5",
   "metadata": {},
   "outputs": [
    {
     "data": {
      "image/png": "[encoded data removed]",
      "text/plain": [
       "<Figure size 640x480 with 1 Axes>"
      ]
     },
     "metadata": {},
     "output_type": "display_data"
    }
   ],
   "source": [
    "# Create bar chart of order day of week frequency\n",
    "\n",
    "bar_day_of_week = ords_prods_custs['order_day_of_week'].value_counts().plot.bar()\n",
    "plt.xlabel(\"Day of Week\")\n",
    "plt.ylabel(\"Frequency\")\n",
    "plt.title(\"Order Day of Week Frequency\") # You can comment this line out if you don't need title\n",
    "plt.show(bar_day_of_week)"
   ]
  },
  {
   "cell_type": "code",
   "execution_count": 19,
   "id": "241a61b6",
   "metadata": {},
   "outputs": [],
   "source": [
    "# export bar_day_of_week\n",
    "\n",
    "bar_day_of_week.figure.savefig(os.path.join(path, '04 Analysis','Visualizations', 'bar_orders_dow_labels.png'))"
   ]
  },
  {
   "cell_type": "code",
   "execution_count": 22,
   "id": "1a735397",
   "metadata": {},
   "outputs": [
    {
     "data": {
      "image/png": "[encoded data removed]",
      "text/plain": [
       "<Figure size 640x480 with 1 Axes>"
      ]
     },
     "metadata": {},
     "output_type": "display_data"
    }
   ],
   "source": [
    "# Create bar chart of order hour of day frequency\n",
    "\n",
    "bar_hour_of_day = ords_prods_custs['order_hour_of_day'].value_counts().plot.bar()\n",
    "plt.xlabel(\"Hour of Day\")\n",
    "plt.ylabel(\"Frequency\")\n",
    "plt.title(\"Order Hour of Day Frequency\") # You can comment this line out if you don't need title\n",
    "plt.show(bar_hour_of_day)"
   ]
  },
  {
   "cell_type": "code",
   "execution_count": 23,
   "id": "4a5851b1",
   "metadata": {},
   "outputs": [],
   "source": [
    "# export bar_hour_of_day\n",
    "\n",
    "bar_hour_of_day.figure.savefig(os.path.join(path, '04 Analysis','Visualizations', 'bar_orders_hour_of_day.png'))"
   ]
  },
  {
   "cell_type": "code",
   "execution_count": 27,
   "id": "100f6ff9",
   "metadata": {
    "scrolled": true
   },
   "outputs": [
    {
     "data": {
      "image/png": "[encoded data removed]",
      "text/plain": [
       "<Figure size 640x480 with 1 Axes>"
      ]
     },
     "metadata": {},
     "output_type": "display_data"
    }
   ],
   "source": [
    "# Create bar chart of department frequency\n",
    "\n",
    "bar_department = ords_prods_custs['department_id'].value_counts().plot.bar()\n",
    "plt.xlabel(\"Department ID\")\n",
    "plt.ylabel(\"Frequency\")\n",
    "plt.title(\"Department Frequency\") # You can comment this line out if you don't need title\n",
    "plt.show(bar_department)"
   ]
  },
  {
   "cell_type": "code",
   "execution_count": 28,
   "id": "1cb55ea5",
   "metadata": {},
   "outputs": [
    {
     "data": {
      "text/html": [
       "<div>\n",
       "<style scoped>\n",
       "    .dataframe tbody tr th:only-of-type {\n",
       "        vertical-align: middle;\n",
       "    }\n",
       "\n",
       "    .dataframe tbody tr th {\n",
       "        vertical-align: top;\n",
       "    }\n",
       "\n",
       "    .dataframe thead th {\n",
       "        text-align: right;\n",
       "    }\n",
       "</style>\n",
       "<table border=\"1\" class=\"dataframe\">\n",
       "  <thead>\n",
       "    <tr style=\"text-align: right;\">\n",
       "      <th></th>\n",
       "      <th>Unnamed: 0</th>\n",
       "      <th>department</th>\n",
       "    </tr>\n",
       "  </thead>\n",
       "  <tbody>\n",
       "    <tr>\n",
       "      <th>0</th>\n",
       "      <td>1</td>\n",
       "      <td>frozen</td>\n",
       "    </tr>\n",
       "    <tr>\n",
       "      <th>1</th>\n",
       "      <td>2</td>\n",
       "      <td>other</td>\n",
       "    </tr>\n",
       "    <tr>\n",
       "      <th>2</th>\n",
       "      <td>3</td>\n",
       "      <td>bakery</td>\n",
       "    </tr>\n",
       "    <tr>\n",
       "      <th>3</th>\n",
       "      <td>4</td>\n",
       "      <td>produce</td>\n",
       "    </tr>\n",
       "    <tr>\n",
       "      <th>4</th>\n",
       "      <td>5</td>\n",
       "      <td>alcohol</td>\n",
       "    </tr>\n",
       "    <tr>\n",
       "      <th>5</th>\n",
       "      <td>6</td>\n",
       "      <td>international</td>\n",
       "    </tr>\n",
       "    <tr>\n",
       "      <th>6</th>\n",
       "      <td>7</td>\n",
       "      <td>beverages</td>\n",
       "    </tr>\n",
       "    <tr>\n",
       "      <th>7</th>\n",
       "      <td>8</td>\n",
       "      <td>pets</td>\n",
       "    </tr>\n",
       "    <tr>\n",
       "      <th>8</th>\n",
       "      <td>9</td>\n",
       "      <td>dry goods pasta</td>\n",
       "    </tr>\n",
       "    <tr>\n",
       "      <th>9</th>\n",
       "      <td>10</td>\n",
       "      <td>bulk</td>\n",
       "    </tr>\n",
       "    <tr>\n",
       "      <th>10</th>\n",
       "      <td>11</td>\n",
       "      <td>personal care</td>\n",
       "    </tr>\n",
       "    <tr>\n",
       "      <th>11</th>\n",
       "      <td>12</td>\n",
       "      <td>meat seafood</td>\n",
       "    </tr>\n",
       "    <tr>\n",
       "      <th>12</th>\n",
       "      <td>13</td>\n",
       "      <td>pantry</td>\n",
       "    </tr>\n",
       "    <tr>\n",
       "      <th>13</th>\n",
       "      <td>14</td>\n",
       "      <td>breakfast</td>\n",
       "    </tr>\n",
       "    <tr>\n",
       "      <th>14</th>\n",
       "      <td>15</td>\n",
       "      <td>canned goods</td>\n",
       "    </tr>\n",
       "    <tr>\n",
       "      <th>15</th>\n",
       "      <td>16</td>\n",
       "      <td>dairy eggs</td>\n",
       "    </tr>\n",
       "    <tr>\n",
       "      <th>16</th>\n",
       "      <td>17</td>\n",
       "      <td>household</td>\n",
       "    </tr>\n",
       "    <tr>\n",
       "      <th>17</th>\n",
       "      <td>18</td>\n",
       "      <td>babies</td>\n",
       "    </tr>\n",
       "    <tr>\n",
       "      <th>18</th>\n",
       "      <td>19</td>\n",
       "      <td>snacks</td>\n",
       "    </tr>\n",
       "    <tr>\n",
       "      <th>19</th>\n",
       "      <td>20</td>\n",
       "      <td>deli</td>\n",
       "    </tr>\n",
       "    <tr>\n",
       "      <th>20</th>\n",
       "      <td>21</td>\n",
       "      <td>missing</td>\n",
       "    </tr>\n",
       "  </tbody>\n",
       "</table>\n",
       "</div>"
      ],
      "text/plain": [
       "    Unnamed: 0       department\n",
       "0            1           frozen\n",
       "1            2            other\n",
       "2            3           bakery\n",
       "3            4          produce\n",
       "4            5          alcohol\n",
       "5            6    international\n",
       "6            7        beverages\n",
       "7            8             pets\n",
       "8            9  dry goods pasta\n",
       "9           10             bulk\n",
       "10          11    personal care\n",
       "11          12     meat seafood\n",
       "12          13           pantry\n",
       "13          14        breakfast\n",
       "14          15     canned goods\n",
       "15          16       dairy eggs\n",
       "16          17        household\n",
       "17          18           babies\n",
       "18          19           snacks\n",
       "19          20             deli\n",
       "20          21          missing"
      ]
     },
     "execution_count": 28,
     "metadata": {},
     "output_type": "execute_result"
    }
   ],
   "source": [
    "departments"
   ]
  },
  {
   "cell_type": "code",
   "execution_count": 29,
   "id": "9f6efd11",
   "metadata": {},
   "outputs": [],
   "source": [
    "# export bar_department\n",
    "\n",
    "bar_department.figure.savefig(os.path.join(path, '04 Analysis','Visualizations', 'bar_department_frequency.png'))"
   ]
  },
  {
   "cell_type": "code",
   "execution_count": 123,
   "id": "1a51a245",
   "metadata": {},
   "outputs": [
    {
     "data": {
      "image/png": "[encoded data removed]",
      "text/plain": [
       "<Figure size 640x480 with 1 Axes>"
      ]
     },
     "metadata": {},
     "output_type": "display_data"
    }
   ],
   "source": [
    "# Draw a countplot by region and spending flag\n",
    "\n",
    "countplot_3 = sns.countplot(data=ords_prods_custs_secure, x=\"region\", hue=\"spending_flag\")"
   ]
  },
  {
   "cell_type": "code",
   "execution_count": 124,
   "id": "ee7ec2b4",
   "metadata": {},
   "outputs": [],
   "source": [
    "# export region and spending flag bar chart\n",
    "\n",
    "countplot_3.figure.savefig(os.path.join(path, '04 Analysis','Visualizations', 'bar_region_spending.png'))"
   ]
  },
  {
   "cell_type": "code",
   "execution_count": 126,
   "id": "a74e0622",
   "metadata": {},
   "outputs": [
    {
     "data": {
      "image/png": "[encoded data removed]",
      "text/plain": [
       "<Figure size 640x480 with 1 Axes>"
      ]
     },
     "metadata": {},
     "output_type": "display_data"
    }
   ],
   "source": [
    "# Draw a countplot by loyalty flag and spending flag\n",
    "\n",
    "countplot_4 = sns.countplot(data=ords_prods_custs_secure, x=\"loyalty_flag\", hue=\"spending_flag\")"
   ]
  },
  {
   "cell_type": "code",
   "execution_count": 127,
   "id": "1c4c7d59",
   "metadata": {},
   "outputs": [],
   "source": [
    "# export loyalty and spending flag bar chart\n",
    "\n",
    "countplot_4.figure.savefig(os.path.join(path, '04 Analysis','Visualizations', 'bar_loyalty_spending.png'))"
   ]
  },
  {
   "cell_type": "code",
   "execution_count": 129,
   "id": "42be24bc",
   "metadata": {},
   "outputs": [
    {
     "data": {
      "image/png": "[encoded data removed]",
      "text/plain": [
       "<Figure size 640x480 with 1 Axes>"
      ]
     },
     "metadata": {},
     "output_type": "display_data"
    }
   ],
   "source": [
    "# Draw a countplot by department and region\n",
    "\n",
    "countplot_5 = sns.countplot(data=ords_prods_custs_secure, y=\"department_id\", hue=\"region\")"
   ]
  },
  {
   "cell_type": "code",
   "execution_count": 130,
   "id": "c1f1cd12",
   "metadata": {},
   "outputs": [],
   "source": [
    "# export department and region bar chart\n",
    "\n",
    "countplot_5.figure.savefig(os.path.join(path, '04 Analysis','Visualizations', 'bar_department_region.png'))"
   ]
  },
  {
   "cell_type": "code",
   "execution_count": 135,
   "id": "505ec067",
   "metadata": {},
   "outputs": [
    {
     "data": {
      "image/png": "[encoded data removed]",
      "text/plain": [
       "<Figure size 640x480 with 1 Axes>"
      ]
     },
     "metadata": {},
     "output_type": "display_data"
    }
   ],
   "source": [
    "# Draw a countplot by department and region\n",
    "\n",
    "countplot_6 = sns.countplot(data=ords_prods_custs_secure, y=\"loyalty_flag\", color = 'tab:blue')"
   ]
  },
  {
   "cell_type": "code",
   "execution_count": 136,
   "id": "1066d56a",
   "metadata": {},
   "outputs": [],
   "source": [
    "# export loyalty flag bar chart\n",
    "\n",
    "countplot_6.figure.savefig(os.path.join(path, '04 Analysis','Visualizations', 'bar_loyalty_flag.png'))"
   ]
  },
  {
   "cell_type": "code",
   "execution_count": 137,
   "id": "fc1703aa",
   "metadata": {},
   "outputs": [
    {
     "data": {
      "image/png": "[encoded data removed]",
      "text/plain": [
       "<Figure size 640x480 with 1 Axes>"
      ]
     },
     "metadata": {},
     "output_type": "display_data"
    }
   ],
   "source": [
    "# Draw a countplot by profile and spending\n",
    "\n",
    "countplot_7 = sns.countplot(data=ords_prods_custs_secure, x=\"spending_flag\", hue=\"profile_flag\")"
   ]
  },
  {
   "cell_type": "code",
   "execution_count": 138,
   "id": "ca632048",
   "metadata": {},
   "outputs": [],
   "source": [
    "# export profile spending bar chart\n",
    "\n",
    "countplot_7.figure.savefig(os.path.join(path, '04 Analysis','Visualizations', 'bar_profile_spending.png'))"
   ]
  },
  {
   "cell_type": "code",
   "execution_count": 139,
   "id": "21f17765",
   "metadata": {},
   "outputs": [
    {
     "data": {
      "image/png": "[encoded data removed]",
      "text/plain": [
       "<Figure size 640x480 with 1 Axes>"
      ]
     },
     "metadata": {},
     "output_type": "display_data"
    }
   ],
   "source": [
    "# Draw a countplot by profile and loyalty\n",
    "\n",
    "countplot_8 = sns.countplot(data=ords_prods_custs_secure, x=\"loyalty_flag\", hue=\"profile_flag\")"
   ]
  },
  {
   "cell_type": "code",
   "execution_count": 140,
   "id": "03dd141b",
   "metadata": {},
   "outputs": [],
   "source": [
    "# export profile loyalty bar chart\n",
    "\n",
    "countplot_8.figure.savefig(os.path.join(path, '04 Analysis','Visualizations', 'bar_profile_loyalty.png'))"
   ]
  },
  {
   "cell_type": "code",
   "execution_count": null,
   "id": "763cde97",
   "metadata": {},
   "outputs": [],
   "source": []
  }
 ],
 "metadata": {
  "kernelspec": {
   "display_name": "Python 3 (ipykernel)",
   "language": "python",
   "name": "python3"
  },
  "language_info": {
   "codemirror_mode": {
    "name": "ipython",
    "version": 3
   },
   "file_extension": ".py",
   "mimetype": "text/x-python",
   "name": "python",
   "nbconvert_exporter": "python",
   "pygments_lexer": "ipython3",
   "version": "3.10.9"
  }
 },
 "nbformat": 4,
 "nbformat_minor": 5
}
