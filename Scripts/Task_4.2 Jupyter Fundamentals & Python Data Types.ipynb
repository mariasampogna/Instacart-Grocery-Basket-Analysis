{
 "cells": [
  {
   "cell_type": "markdown",
   "id": "0cf2a99c",
   "metadata": {},
   "source": [
    "# 01. Importing libraries"
   ]
  },
  {
   "cell_type": "code",
   "execution_count": 1,
   "id": "7db1e00a",
   "metadata": {},
   "outputs": [],
   "source": [
    "# Importing libraries\n",
    "import pandas as pd\n",
    "import numpy as np\n",
    "import os"
   ]
  },
  {
   "cell_type": "markdown",
   "id": "d94cacb3",
   "metadata": {},
   "source": [
    "# 02. Data Types"
   ]
  },
  {
   "cell_type": "code",
   "execution_count": 2,
   "id": "ac5d384a",
   "metadata": {},
   "outputs": [],
   "source": [
    "x=50"
   ]
  },
  {
   "cell_type": "code",
   "execution_count": 3,
   "id": "c6cbb647",
   "metadata": {},
   "outputs": [],
   "source": [
    "y=50"
   ]
  },
  {
   "cell_type": "code",
   "execution_count": 4,
   "id": "d19c8ecd",
   "metadata": {},
   "outputs": [
    {
     "data": {
      "text/plain": [
       "100"
      ]
     },
     "execution_count": 4,
     "metadata": {},
     "output_type": "execute_result"
    }
   ],
   "source": [
    "x+y"
   ]
  },
  {
   "cell_type": "code",
   "execution_count": 5,
   "id": "3e2185e3",
   "metadata": {},
   "outputs": [
    {
     "data": {
      "text/plain": [
       "100"
      ]
     },
     "execution_count": 5,
     "metadata": {},
     "output_type": "execute_result"
    }
   ],
   "source": [
    "25+75"
   ]
  },
  {
   "cell_type": "code",
   "execution_count": 6,
   "id": "4730f104",
   "metadata": {},
   "outputs": [
    {
     "data": {
      "text/plain": [
       "100"
      ]
     },
     "execution_count": 6,
     "metadata": {},
     "output_type": "execute_result"
    }
   ],
   "source": [
    "150-x"
   ]
  },
  {
   "cell_type": "code",
   "execution_count": 7,
   "id": "78c680f4",
   "metadata": {},
   "outputs": [],
   "source": [
    "w=6.789"
   ]
  },
  {
   "cell_type": "code",
   "execution_count": 8,
   "id": "94ed2343",
   "metadata": {},
   "outputs": [],
   "source": [
    "z=1.234"
   ]
  },
  {
   "cell_type": "code",
   "execution_count": 9,
   "id": "7b224641",
   "metadata": {},
   "outputs": [
    {
     "data": {
      "text/plain": [
       "5.50162074554295"
      ]
     },
     "execution_count": 9,
     "metadata": {},
     "output_type": "execute_result"
    }
   ],
   "source": [
    "w/z"
   ]
  },
  {
   "cell_type": "code",
   "execution_count": 10,
   "id": "d678864f",
   "metadata": {},
   "outputs": [],
   "source": [
    "a='layer '"
   ]
  },
  {
   "cell_type": "code",
   "execution_count": 11,
   "id": "09a3f52b",
   "metadata": {},
   "outputs": [],
   "source": [
    "b='cake'"
   ]
  },
  {
   "cell_type": "code",
   "execution_count": 12,
   "id": "106b7898",
   "metadata": {},
   "outputs": [
    {
     "data": {
      "text/plain": [
       "'layer cake'"
      ]
     },
     "execution_count": 12,
     "metadata": {},
     "output_type": "execute_result"
    }
   ],
   "source": [
    "a+b"
   ]
  },
  {
   "cell_type": "code",
   "execution_count": 13,
   "id": "b35ccf89",
   "metadata": {},
   "outputs": [],
   "source": [
    "c='Cats say '"
   ]
  },
  {
   "cell_type": "code",
   "execution_count": 17,
   "id": "36cef4e9",
   "metadata": {},
   "outputs": [],
   "source": [
    "d='meow!'"
   ]
  },
  {
   "cell_type": "code",
   "execution_count": 18,
   "id": "a4eac467",
   "metadata": {},
   "outputs": [
    {
     "data": {
      "text/plain": [
       "'Cats say meow!'"
      ]
     },
     "execution_count": 18,
     "metadata": {},
     "output_type": "execute_result"
    }
   ],
   "source": [
    "c+d"
   ]
  },
  {
   "cell_type": "code",
   "execution_count": 16,
   "id": "e94b7942",
   "metadata": {},
   "outputs": [],
   "source": [
    "e='Dogs love '"
   ]
  },
  {
   "cell_type": "code",
   "execution_count": 19,
   "id": "554ef100",
   "metadata": {},
   "outputs": [],
   "source": [
    "f='snacks!'"
   ]
  },
  {
   "cell_type": "code",
   "execution_count": 20,
   "id": "132eddc4",
   "metadata": {},
   "outputs": [
    {
     "data": {
      "text/plain": [
       "'Dogs love snacks!'"
      ]
     },
     "execution_count": 20,
     "metadata": {},
     "output_type": "execute_result"
    }
   ],
   "source": [
    "e+f"
   ]
  },
  {
   "cell_type": "code",
   "execution_count": 23,
   "id": "7a0d1f00",
   "metadata": {},
   "outputs": [],
   "source": [
    "g='meow'"
   ]
  },
  {
   "cell_type": "code",
   "execution_count": 24,
   "id": "5afc7338",
   "metadata": {},
   "outputs": [
    {
     "data": {
      "text/plain": [
       "'meowmeowmeowmeowmeowmeowmeowmeowmeowmeowmeowmeowmeowmeowmeowmeowmeowmeowmeowmeowmeowmeowmeowmeowmeowmeowmeowmeowmeowmeowmeowmeowmeowmeowmeowmeowmeowmeowmeowmeowmeowmeowmeowmeowmeowmeowmeowmeowmeowmeowmeowmeowmeowmeowmeowmeowmeowmeowmeowmeowmeowmeowmeowmeowmeowmeowmeowmeowmeowmeowmeowmeowmeowmeowmeowmeowmeowmeowmeowmeowmeowmeowmeowmeowmeowmeowmeowmeowmeowmeowmeowmeowmeowmeowmeowmeowmeowmeowmeowmeow'"
      ]
     },
     "execution_count": 24,
     "metadata": {},
     "output_type": "execute_result"
    }
   ],
   "source": [
    "g*100"
   ]
  },
  {
   "cell_type": "code",
   "execution_count": null,
   "id": "a6d4c4d7",
   "metadata": {},
   "outputs": [],
   "source": []
  }
 ],
 "metadata": {
  "kernelspec": {
   "display_name": "Python 3 (ipykernel)",
   "language": "python",
   "name": "python3"
  },
  "language_info": {
   "codemirror_mode": {
    "name": "ipython",
    "version": 3
   },
   "file_extension": ".py",
   "mimetype": "text/x-python",
   "name": "python",
   "nbconvert_exporter": "python",
   "pygments_lexer": "ipython3",
   "version": "3.10.9"
  }
 },
 "nbformat": 4,
 "nbformat_minor": 5
}
